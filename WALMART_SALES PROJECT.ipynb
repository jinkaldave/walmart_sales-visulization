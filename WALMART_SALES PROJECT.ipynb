{
 "cells": [
  {
   "cell_type": "markdown",
   "id": "b92e2e7c",
   "metadata": {},
   "source": [
    "# Walmart_Sales"
   ]
  },
  {
   "cell_type": "markdown",
   "id": "3f3ad583",
   "metadata": {},
   "source": [
    "## In this data sets we have a data of a walmart sales in which we have to study different feachers of the given dataset visually "
   ]
  },
  {
   "cell_type": "markdown",
   "id": "d08d6340",
   "metadata": {},
   "source": []
  },
  {
   "cell_type": "code",
   "execution_count": 1,
   "id": "e34c2ebc",
   "metadata": {},
   "outputs": [],
   "source": [
    "# first import libraris\n",
    "\n",
    "import pandas as pd\n",
    "import numpy as np\n",
    "import matplotlib.pyplot as plt"
   ]
  },
  {
   "cell_type": "code",
   "execution_count": 2,
   "id": "944a7d14",
   "metadata": {},
   "outputs": [],
   "source": [
    "# read the data in pandas \n",
    "\n",
    "df=pd.read_csv('walmart.csv')"
   ]
  },
  {
   "cell_type": "code",
   "execution_count": 3,
   "id": "c86a17d9",
   "metadata": {},
   "outputs": [
    {
     "data": {
      "text/html": [
       "<div>\n",
       "<style scoped>\n",
       "    .dataframe tbody tr th:only-of-type {\n",
       "        vertical-align: middle;\n",
       "    }\n",
       "\n",
       "    .dataframe tbody tr th {\n",
       "        vertical-align: top;\n",
       "    }\n",
       "\n",
       "    .dataframe thead th {\n",
       "        text-align: right;\n",
       "    }\n",
       "</style>\n",
       "<table border=\"1\" class=\"dataframe\">\n",
       "  <thead>\n",
       "    <tr style=\"text-align: right;\">\n",
       "      <th></th>\n",
       "      <th>Order ID</th>\n",
       "      <th>Order Date</th>\n",
       "      <th>Ship Date</th>\n",
       "      <th>Customer Name</th>\n",
       "      <th>Country</th>\n",
       "      <th>City</th>\n",
       "      <th>State</th>\n",
       "      <th>Category</th>\n",
       "      <th>Product Name</th>\n",
       "      <th>Sales</th>\n",
       "      <th>Quantity</th>\n",
       "      <th>Profit</th>\n",
       "    </tr>\n",
       "  </thead>\n",
       "  <tbody>\n",
       "    <tr>\n",
       "      <th>0</th>\n",
       "      <td>CA-2013-138688</td>\n",
       "      <td>13-06-2013</td>\n",
       "      <td>17-06-2013</td>\n",
       "      <td>Darrin Van Huff</td>\n",
       "      <td>United States</td>\n",
       "      <td>Los Angeles</td>\n",
       "      <td>California</td>\n",
       "      <td>Labels</td>\n",
       "      <td>Self-Adhesive Address Labels for Typewriters b...</td>\n",
       "      <td>14.62</td>\n",
       "      <td>2.0</td>\n",
       "      <td>6.87</td>\n",
       "    </tr>\n",
       "    <tr>\n",
       "      <th>1</th>\n",
       "      <td>CA-2011-115812</td>\n",
       "      <td>09-06-2011</td>\n",
       "      <td>14-06-2011</td>\n",
       "      <td>Brosina Hoffman</td>\n",
       "      <td>United States</td>\n",
       "      <td>Los Angeles</td>\n",
       "      <td>California</td>\n",
       "      <td>Furnishings</td>\n",
       "      <td>Eldon Expressions Wood and Plastic Desk Access...</td>\n",
       "      <td>48.86</td>\n",
       "      <td>7.0</td>\n",
       "      <td>14.17</td>\n",
       "    </tr>\n",
       "    <tr>\n",
       "      <th>2</th>\n",
       "      <td>CA-2011-115812</td>\n",
       "      <td>09-06-2011</td>\n",
       "      <td>14-06-2011</td>\n",
       "      <td>Brosina Hoffman</td>\n",
       "      <td>United States</td>\n",
       "      <td>Los Angeles</td>\n",
       "      <td>California</td>\n",
       "      <td>Art</td>\n",
       "      <td>Newell 322</td>\n",
       "      <td>7.28</td>\n",
       "      <td>4.0</td>\n",
       "      <td>1.97</td>\n",
       "    </tr>\n",
       "    <tr>\n",
       "      <th>3</th>\n",
       "      <td>CA-2011-115812</td>\n",
       "      <td>09-06-2011</td>\n",
       "      <td>14-06-2011</td>\n",
       "      <td>Brosina Hoffman</td>\n",
       "      <td>United States</td>\n",
       "      <td>Los Angeles</td>\n",
       "      <td>California</td>\n",
       "      <td>Phones</td>\n",
       "      <td>Mitel 5320 IP Phone VoIP phone</td>\n",
       "      <td>907.15</td>\n",
       "      <td>4.0</td>\n",
       "      <td>90.72</td>\n",
       "    </tr>\n",
       "    <tr>\n",
       "      <th>4</th>\n",
       "      <td>CA-2011-115812</td>\n",
       "      <td>09-06-2011</td>\n",
       "      <td>14-06-2011</td>\n",
       "      <td>Brosina Hoffman</td>\n",
       "      <td>United States</td>\n",
       "      <td>Los Angeles</td>\n",
       "      <td>California</td>\n",
       "      <td>Binders</td>\n",
       "      <td>DXL Angle-View Binders with Locking Rings by S...</td>\n",
       "      <td>18.50</td>\n",
       "      <td>3.0</td>\n",
       "      <td>5.78</td>\n",
       "    </tr>\n",
       "    <tr>\n",
       "      <th>...</th>\n",
       "      <td>...</td>\n",
       "      <td>...</td>\n",
       "      <td>...</td>\n",
       "      <td>...</td>\n",
       "      <td>...</td>\n",
       "      <td>...</td>\n",
       "      <td>...</td>\n",
       "      <td>...</td>\n",
       "      <td>...</td>\n",
       "      <td>...</td>\n",
       "      <td>...</td>\n",
       "      <td>...</td>\n",
       "    </tr>\n",
       "    <tr>\n",
       "      <th>3198</th>\n",
       "      <td>CA-2013-125794</td>\n",
       "      <td>30-09-2013</td>\n",
       "      <td>04-10-2013</td>\n",
       "      <td>Maris LaWare</td>\n",
       "      <td>United States</td>\n",
       "      <td>Los Angeles</td>\n",
       "      <td>California</td>\n",
       "      <td>Accessories</td>\n",
       "      <td>Memorex Mini Travel Drive 64 GB USB 2.0 Flash ...</td>\n",
       "      <td>36.24</td>\n",
       "      <td>1.0</td>\n",
       "      <td>15.22</td>\n",
       "    </tr>\n",
       "    <tr>\n",
       "      <th>3199</th>\n",
       "      <td>CA-2014-121258</td>\n",
       "      <td>27-02-2014</td>\n",
       "      <td>04-03-2014</td>\n",
       "      <td>Dave Brooks</td>\n",
       "      <td>United States</td>\n",
       "      <td>Costa Mesa</td>\n",
       "      <td>California</td>\n",
       "      <td>Furnishings</td>\n",
       "      <td>Tenex B1-RE Series Chair Mats for Low Pile Car...</td>\n",
       "      <td>91.96</td>\n",
       "      <td>2.0</td>\n",
       "      <td>15.63</td>\n",
       "    </tr>\n",
       "    <tr>\n",
       "      <th>3200</th>\n",
       "      <td>CA-2014-121258</td>\n",
       "      <td>27-02-2014</td>\n",
       "      <td>04-03-2014</td>\n",
       "      <td>Dave Brooks</td>\n",
       "      <td>United States</td>\n",
       "      <td>Costa Mesa</td>\n",
       "      <td>California</td>\n",
       "      <td>Phones</td>\n",
       "      <td>Aastra 57i VoIP phone</td>\n",
       "      <td>258.58</td>\n",
       "      <td>2.0</td>\n",
       "      <td>19.39</td>\n",
       "    </tr>\n",
       "    <tr>\n",
       "      <th>3201</th>\n",
       "      <td>CA-2014-121258</td>\n",
       "      <td>27-02-2014</td>\n",
       "      <td>04-03-2014</td>\n",
       "      <td>Dave Brooks</td>\n",
       "      <td>United States</td>\n",
       "      <td>Costa Mesa</td>\n",
       "      <td>California</td>\n",
       "      <td>Paper</td>\n",
       "      <td>It's Hot Message Books with Stickers, 2 3/4\" x 5\"</td>\n",
       "      <td>29.60</td>\n",
       "      <td>4.0</td>\n",
       "      <td>13.32</td>\n",
       "    </tr>\n",
       "    <tr>\n",
       "      <th>3202</th>\n",
       "      <td>CA-2014-119914</td>\n",
       "      <td>05-05-2014</td>\n",
       "      <td>10-05-2014</td>\n",
       "      <td>Chris Cortes</td>\n",
       "      <td>United States</td>\n",
       "      <td>Westminster</td>\n",
       "      <td>California</td>\n",
       "      <td>Appliances</td>\n",
       "      <td>Acco 7-Outlet Masterpiece Power Center, Wihtou...</td>\n",
       "      <td>243.16</td>\n",
       "      <td>2.0</td>\n",
       "      <td>72.95</td>\n",
       "    </tr>\n",
       "  </tbody>\n",
       "</table>\n",
       "<p>3203 rows × 12 columns</p>\n",
       "</div>"
      ],
      "text/plain": [
       "            Order ID  Order Date   Ship Date    Customer Name        Country  \\\n",
       "0     CA-2013-138688  13-06-2013  17-06-2013  Darrin Van Huff  United States   \n",
       "1     CA-2011-115812  09-06-2011  14-06-2011  Brosina Hoffman  United States   \n",
       "2     CA-2011-115812  09-06-2011  14-06-2011  Brosina Hoffman  United States   \n",
       "3     CA-2011-115812  09-06-2011  14-06-2011  Brosina Hoffman  United States   \n",
       "4     CA-2011-115812  09-06-2011  14-06-2011  Brosina Hoffman  United States   \n",
       "...              ...         ...         ...              ...            ...   \n",
       "3198  CA-2013-125794  30-09-2013  04-10-2013     Maris LaWare  United States   \n",
       "3199  CA-2014-121258  27-02-2014  04-03-2014      Dave Brooks  United States   \n",
       "3200  CA-2014-121258  27-02-2014  04-03-2014      Dave Brooks  United States   \n",
       "3201  CA-2014-121258  27-02-2014  04-03-2014      Dave Brooks  United States   \n",
       "3202  CA-2014-119914  05-05-2014  10-05-2014     Chris Cortes  United States   \n",
       "\n",
       "             City       State     Category  \\\n",
       "0     Los Angeles  California       Labels   \n",
       "1     Los Angeles  California  Furnishings   \n",
       "2     Los Angeles  California          Art   \n",
       "3     Los Angeles  California       Phones   \n",
       "4     Los Angeles  California      Binders   \n",
       "...           ...         ...          ...   \n",
       "3198  Los Angeles  California  Accessories   \n",
       "3199   Costa Mesa  California  Furnishings   \n",
       "3200   Costa Mesa  California       Phones   \n",
       "3201   Costa Mesa  California        Paper   \n",
       "3202  Westminster  California   Appliances   \n",
       "\n",
       "                                           Product Name   Sales  Quantity  \\\n",
       "0     Self-Adhesive Address Labels for Typewriters b...   14.62       2.0   \n",
       "1     Eldon Expressions Wood and Plastic Desk Access...   48.86       7.0   \n",
       "2                                            Newell 322    7.28       4.0   \n",
       "3                        Mitel 5320 IP Phone VoIP phone  907.15       4.0   \n",
       "4     DXL Angle-View Binders with Locking Rings by S...   18.50       3.0   \n",
       "...                                                 ...     ...       ...   \n",
       "3198  Memorex Mini Travel Drive 64 GB USB 2.0 Flash ...   36.24       1.0   \n",
       "3199  Tenex B1-RE Series Chair Mats for Low Pile Car...   91.96       2.0   \n",
       "3200                              Aastra 57i VoIP phone  258.58       2.0   \n",
       "3201  It's Hot Message Books with Stickers, 2 3/4\" x 5\"   29.60       4.0   \n",
       "3202  Acco 7-Outlet Masterpiece Power Center, Wihtou...  243.16       2.0   \n",
       "\n",
       "      Profit  \n",
       "0       6.87  \n",
       "1      14.17  \n",
       "2       1.97  \n",
       "3      90.72  \n",
       "4       5.78  \n",
       "...      ...  \n",
       "3198   15.22  \n",
       "3199   15.63  \n",
       "3200   19.39  \n",
       "3201   13.32  \n",
       "3202   72.95  \n",
       "\n",
       "[3203 rows x 12 columns]"
      ]
     },
     "execution_count": 3,
     "metadata": {},
     "output_type": "execute_result"
    }
   ],
   "source": [
    "# print the dataframe\n",
    "\n",
    "df"
   ]
  },
  {
   "cell_type": "markdown",
   "id": "fd2b04c9",
   "metadata": {},
   "source": [
    "## we have to check shpe,size,information about columns."
   ]
  },
  {
   "cell_type": "code",
   "execution_count": 4,
   "id": "212eb78f",
   "metadata": {},
   "outputs": [
    {
     "data": {
      "text/plain": [
       "(3203, 12)"
      ]
     },
     "execution_count": 4,
     "metadata": {},
     "output_type": "execute_result"
    }
   ],
   "source": [
    "df.shape"
   ]
  },
  {
   "cell_type": "code",
   "execution_count": 5,
   "id": "c57a8d3d",
   "metadata": {},
   "outputs": [
    {
     "data": {
      "text/plain": [
       "38436"
      ]
     },
     "execution_count": 5,
     "metadata": {},
     "output_type": "execute_result"
    }
   ],
   "source": [
    "df.size"
   ]
  },
  {
   "cell_type": "code",
   "execution_count": 6,
   "id": "acbe5fad",
   "metadata": {},
   "outputs": [
    {
     "name": "stdout",
     "output_type": "stream",
     "text": [
      "<class 'pandas.core.frame.DataFrame'>\n",
      "RangeIndex: 3203 entries, 0 to 3202\n",
      "Data columns (total 12 columns):\n",
      " #   Column         Non-Null Count  Dtype  \n",
      "---  ------         --------------  -----  \n",
      " 0   Order ID       3203 non-null   object \n",
      " 1   Order Date     3203 non-null   object \n",
      " 2   Ship Date      3203 non-null   object \n",
      " 3   Customer Name  3203 non-null   object \n",
      " 4   Country        3203 non-null   object \n",
      " 5   City           3203 non-null   object \n",
      " 6   State          3203 non-null   object \n",
      " 7   Category       3203 non-null   object \n",
      " 8   Product Name   3203 non-null   object \n",
      " 9   Sales          3203 non-null   float64\n",
      " 10  Quantity       3203 non-null   float64\n",
      " 11  Profit         3203 non-null   float64\n",
      "dtypes: float64(3), object(9)\n",
      "memory usage: 300.4+ KB\n"
     ]
    }
   ],
   "source": [
    "df.info()"
   ]
  },
  {
   "cell_type": "markdown",
   "id": "71f7cdc8",
   "metadata": {},
   "source": [
    "## check the mean,median nd SD of records."
   ]
  },
  {
   "cell_type": "code",
   "execution_count": 7,
   "id": "c93f4f91",
   "metadata": {},
   "outputs": [
    {
     "data": {
      "text/html": [
       "<div>\n",
       "<style scoped>\n",
       "    .dataframe tbody tr th:only-of-type {\n",
       "        vertical-align: middle;\n",
       "    }\n",
       "\n",
       "    .dataframe tbody tr th {\n",
       "        vertical-align: top;\n",
       "    }\n",
       "\n",
       "    .dataframe thead th {\n",
       "        text-align: right;\n",
       "    }\n",
       "</style>\n",
       "<table border=\"1\" class=\"dataframe\">\n",
       "  <thead>\n",
       "    <tr style=\"text-align: right;\">\n",
       "      <th></th>\n",
       "      <th>Sales</th>\n",
       "      <th>Quantity</th>\n",
       "      <th>Profit</th>\n",
       "    </tr>\n",
       "  </thead>\n",
       "  <tbody>\n",
       "    <tr>\n",
       "      <th>count</th>\n",
       "      <td>3203.000000</td>\n",
       "      <td>3203.000000</td>\n",
       "      <td>3203.000000</td>\n",
       "    </tr>\n",
       "    <tr>\n",
       "      <th>mean</th>\n",
       "      <td>226.493266</td>\n",
       "      <td>3.828910</td>\n",
       "      <td>33.849138</td>\n",
       "    </tr>\n",
       "    <tr>\n",
       "      <th>std</th>\n",
       "      <td>524.876911</td>\n",
       "      <td>2.260947</td>\n",
       "      <td>174.109155</td>\n",
       "    </tr>\n",
       "    <tr>\n",
       "      <th>min</th>\n",
       "      <td>0.990000</td>\n",
       "      <td>1.000000</td>\n",
       "      <td>-3399.980000</td>\n",
       "    </tr>\n",
       "    <tr>\n",
       "      <th>25%</th>\n",
       "      <td>19.440000</td>\n",
       "      <td>2.000000</td>\n",
       "      <td>3.850000</td>\n",
       "    </tr>\n",
       "    <tr>\n",
       "      <th>50%</th>\n",
       "      <td>60.840000</td>\n",
       "      <td>3.000000</td>\n",
       "      <td>11.170000</td>\n",
       "    </tr>\n",
       "    <tr>\n",
       "      <th>75%</th>\n",
       "      <td>215.810000</td>\n",
       "      <td>5.000000</td>\n",
       "      <td>33.000000</td>\n",
       "    </tr>\n",
       "    <tr>\n",
       "      <th>max</th>\n",
       "      <td>13999.960000</td>\n",
       "      <td>14.000000</td>\n",
       "      <td>6719.980000</td>\n",
       "    </tr>\n",
       "  </tbody>\n",
       "</table>\n",
       "</div>"
      ],
      "text/plain": [
       "              Sales     Quantity       Profit\n",
       "count   3203.000000  3203.000000  3203.000000\n",
       "mean     226.493266     3.828910    33.849138\n",
       "std      524.876911     2.260947   174.109155\n",
       "min        0.990000     1.000000 -3399.980000\n",
       "25%       19.440000     2.000000     3.850000\n",
       "50%       60.840000     3.000000    11.170000\n",
       "75%      215.810000     5.000000    33.000000\n",
       "max    13999.960000    14.000000  6719.980000"
      ]
     },
     "execution_count": 7,
     "metadata": {},
     "output_type": "execute_result"
    }
   ],
   "source": [
    "df.describe()"
   ]
  },
  {
   "cell_type": "code",
   "execution_count": 8,
   "id": "b37249e9",
   "metadata": {},
   "outputs": [
    {
     "data": {
      "text/html": [
       "<div>\n",
       "<style scoped>\n",
       "    .dataframe tbody tr th:only-of-type {\n",
       "        vertical-align: middle;\n",
       "    }\n",
       "\n",
       "    .dataframe tbody tr th {\n",
       "        vertical-align: top;\n",
       "    }\n",
       "\n",
       "    .dataframe thead th {\n",
       "        text-align: right;\n",
       "    }\n",
       "</style>\n",
       "<table border=\"1\" class=\"dataframe\">\n",
       "  <thead>\n",
       "    <tr style=\"text-align: right;\">\n",
       "      <th></th>\n",
       "      <th>count</th>\n",
       "      <th>mean</th>\n",
       "      <th>std</th>\n",
       "      <th>min</th>\n",
       "      <th>25%</th>\n",
       "      <th>50%</th>\n",
       "      <th>75%</th>\n",
       "      <th>max</th>\n",
       "    </tr>\n",
       "  </thead>\n",
       "  <tbody>\n",
       "    <tr>\n",
       "      <th>Sales</th>\n",
       "      <td>3203.0</td>\n",
       "      <td>226.493266</td>\n",
       "      <td>524.876911</td>\n",
       "      <td>0.99</td>\n",
       "      <td>19.44</td>\n",
       "      <td>60.84</td>\n",
       "      <td>215.81</td>\n",
       "      <td>13999.96</td>\n",
       "    </tr>\n",
       "    <tr>\n",
       "      <th>Quantity</th>\n",
       "      <td>3203.0</td>\n",
       "      <td>3.828910</td>\n",
       "      <td>2.260947</td>\n",
       "      <td>1.00</td>\n",
       "      <td>2.00</td>\n",
       "      <td>3.00</td>\n",
       "      <td>5.00</td>\n",
       "      <td>14.00</td>\n",
       "    </tr>\n",
       "    <tr>\n",
       "      <th>Profit</th>\n",
       "      <td>3203.0</td>\n",
       "      <td>33.849138</td>\n",
       "      <td>174.109155</td>\n",
       "      <td>-3399.98</td>\n",
       "      <td>3.85</td>\n",
       "      <td>11.17</td>\n",
       "      <td>33.00</td>\n",
       "      <td>6719.98</td>\n",
       "    </tr>\n",
       "  </tbody>\n",
       "</table>\n",
       "</div>"
      ],
      "text/plain": [
       "           count        mean         std      min    25%    50%     75%  \\\n",
       "Sales     3203.0  226.493266  524.876911     0.99  19.44  60.84  215.81   \n",
       "Quantity  3203.0    3.828910    2.260947     1.00   2.00   3.00    5.00   \n",
       "Profit    3203.0   33.849138  174.109155 -3399.98   3.85  11.17   33.00   \n",
       "\n",
       "               max  \n",
       "Sales     13999.96  \n",
       "Quantity     14.00  \n",
       "Profit     6719.98  "
      ]
     },
     "execution_count": 8,
     "metadata": {},
     "output_type": "execute_result"
    }
   ],
   "source": [
    "df.describe().T"
   ]
  },
  {
   "cell_type": "code",
   "execution_count": 9,
   "id": "169b82c4",
   "metadata": {},
   "outputs": [
    {
     "data": {
      "text/plain": [
       "Index(['Order ID', 'Order Date', 'Ship Date', 'Customer Name', 'Country',\n",
       "       'City', 'State', 'Category', 'Product Name', 'Sales', 'Quantity',\n",
       "       'Profit'],\n",
       "      dtype='object')"
      ]
     },
     "execution_count": 9,
     "metadata": {},
     "output_type": "execute_result"
    }
   ],
   "source": [
    "df.columns"
   ]
  },
  {
   "cell_type": "code",
   "execution_count": 10,
   "id": "397b53ca",
   "metadata": {},
   "outputs": [
    {
     "data": {
      "text/plain": [
       "Order ID          object\n",
       "Order Date        object\n",
       "Ship Date         object\n",
       "Customer Name     object\n",
       "Country           object\n",
       "City              object\n",
       "State             object\n",
       "Category          object\n",
       "Product Name      object\n",
       "Sales            float64\n",
       "Quantity         float64\n",
       "Profit           float64\n",
       "dtype: object"
      ]
     },
     "execution_count": 10,
     "metadata": {},
     "output_type": "execute_result"
    }
   ],
   "source": [
    "df.dtypes"
   ]
  },
  {
   "cell_type": "markdown",
   "id": "370a90f5",
   "metadata": {},
   "source": [
    "### convert numerical data nd categorical data into differant data frames"
   ]
  },
  {
   "cell_type": "code",
   "execution_count": 11,
   "id": "323bc642",
   "metadata": {},
   "outputs": [],
   "source": [
    "df_num=df.select_dtypes(include=[int,float])"
   ]
  },
  {
   "cell_type": "code",
   "execution_count": 12,
   "id": "9bd394ab",
   "metadata": {},
   "outputs": [
    {
     "data": {
      "text/html": [
       "<div>\n",
       "<style scoped>\n",
       "    .dataframe tbody tr th:only-of-type {\n",
       "        vertical-align: middle;\n",
       "    }\n",
       "\n",
       "    .dataframe tbody tr th {\n",
       "        vertical-align: top;\n",
       "    }\n",
       "\n",
       "    .dataframe thead th {\n",
       "        text-align: right;\n",
       "    }\n",
       "</style>\n",
       "<table border=\"1\" class=\"dataframe\">\n",
       "  <thead>\n",
       "    <tr style=\"text-align: right;\">\n",
       "      <th></th>\n",
       "      <th>Sales</th>\n",
       "      <th>Quantity</th>\n",
       "      <th>Profit</th>\n",
       "    </tr>\n",
       "  </thead>\n",
       "  <tbody>\n",
       "    <tr>\n",
       "      <th>0</th>\n",
       "      <td>14.62</td>\n",
       "      <td>2.0</td>\n",
       "      <td>6.87</td>\n",
       "    </tr>\n",
       "    <tr>\n",
       "      <th>1</th>\n",
       "      <td>48.86</td>\n",
       "      <td>7.0</td>\n",
       "      <td>14.17</td>\n",
       "    </tr>\n",
       "    <tr>\n",
       "      <th>2</th>\n",
       "      <td>7.28</td>\n",
       "      <td>4.0</td>\n",
       "      <td>1.97</td>\n",
       "    </tr>\n",
       "    <tr>\n",
       "      <th>3</th>\n",
       "      <td>907.15</td>\n",
       "      <td>4.0</td>\n",
       "      <td>90.72</td>\n",
       "    </tr>\n",
       "    <tr>\n",
       "      <th>4</th>\n",
       "      <td>18.50</td>\n",
       "      <td>3.0</td>\n",
       "      <td>5.78</td>\n",
       "    </tr>\n",
       "    <tr>\n",
       "      <th>...</th>\n",
       "      <td>...</td>\n",
       "      <td>...</td>\n",
       "      <td>...</td>\n",
       "    </tr>\n",
       "    <tr>\n",
       "      <th>3198</th>\n",
       "      <td>36.24</td>\n",
       "      <td>1.0</td>\n",
       "      <td>15.22</td>\n",
       "    </tr>\n",
       "    <tr>\n",
       "      <th>3199</th>\n",
       "      <td>91.96</td>\n",
       "      <td>2.0</td>\n",
       "      <td>15.63</td>\n",
       "    </tr>\n",
       "    <tr>\n",
       "      <th>3200</th>\n",
       "      <td>258.58</td>\n",
       "      <td>2.0</td>\n",
       "      <td>19.39</td>\n",
       "    </tr>\n",
       "    <tr>\n",
       "      <th>3201</th>\n",
       "      <td>29.60</td>\n",
       "      <td>4.0</td>\n",
       "      <td>13.32</td>\n",
       "    </tr>\n",
       "    <tr>\n",
       "      <th>3202</th>\n",
       "      <td>243.16</td>\n",
       "      <td>2.0</td>\n",
       "      <td>72.95</td>\n",
       "    </tr>\n",
       "  </tbody>\n",
       "</table>\n",
       "<p>3203 rows × 3 columns</p>\n",
       "</div>"
      ],
      "text/plain": [
       "       Sales  Quantity  Profit\n",
       "0      14.62       2.0    6.87\n",
       "1      48.86       7.0   14.17\n",
       "2       7.28       4.0    1.97\n",
       "3     907.15       4.0   90.72\n",
       "4      18.50       3.0    5.78\n",
       "...      ...       ...     ...\n",
       "3198   36.24       1.0   15.22\n",
       "3199   91.96       2.0   15.63\n",
       "3200  258.58       2.0   19.39\n",
       "3201   29.60       4.0   13.32\n",
       "3202  243.16       2.0   72.95\n",
       "\n",
       "[3203 rows x 3 columns]"
      ]
     },
     "execution_count": 12,
     "metadata": {},
     "output_type": "execute_result"
    }
   ],
   "source": [
    "df_num"
   ]
  },
  {
   "cell_type": "code",
   "execution_count": 13,
   "id": "1f74c075",
   "metadata": {},
   "outputs": [],
   "source": [
    "df_cet=df.select_dtypes(include=[object])"
   ]
  },
  {
   "cell_type": "code",
   "execution_count": 14,
   "id": "7fd77fae",
   "metadata": {},
   "outputs": [
    {
     "data": {
      "text/html": [
       "<div>\n",
       "<style scoped>\n",
       "    .dataframe tbody tr th:only-of-type {\n",
       "        vertical-align: middle;\n",
       "    }\n",
       "\n",
       "    .dataframe tbody tr th {\n",
       "        vertical-align: top;\n",
       "    }\n",
       "\n",
       "    .dataframe thead th {\n",
       "        text-align: right;\n",
       "    }\n",
       "</style>\n",
       "<table border=\"1\" class=\"dataframe\">\n",
       "  <thead>\n",
       "    <tr style=\"text-align: right;\">\n",
       "      <th></th>\n",
       "      <th>Order ID</th>\n",
       "      <th>Order Date</th>\n",
       "      <th>Ship Date</th>\n",
       "      <th>Customer Name</th>\n",
       "      <th>Country</th>\n",
       "      <th>City</th>\n",
       "      <th>State</th>\n",
       "      <th>Category</th>\n",
       "      <th>Product Name</th>\n",
       "    </tr>\n",
       "  </thead>\n",
       "  <tbody>\n",
       "    <tr>\n",
       "      <th>0</th>\n",
       "      <td>CA-2013-138688</td>\n",
       "      <td>13-06-2013</td>\n",
       "      <td>17-06-2013</td>\n",
       "      <td>Darrin Van Huff</td>\n",
       "      <td>United States</td>\n",
       "      <td>Los Angeles</td>\n",
       "      <td>California</td>\n",
       "      <td>Labels</td>\n",
       "      <td>Self-Adhesive Address Labels for Typewriters b...</td>\n",
       "    </tr>\n",
       "    <tr>\n",
       "      <th>1</th>\n",
       "      <td>CA-2011-115812</td>\n",
       "      <td>09-06-2011</td>\n",
       "      <td>14-06-2011</td>\n",
       "      <td>Brosina Hoffman</td>\n",
       "      <td>United States</td>\n",
       "      <td>Los Angeles</td>\n",
       "      <td>California</td>\n",
       "      <td>Furnishings</td>\n",
       "      <td>Eldon Expressions Wood and Plastic Desk Access...</td>\n",
       "    </tr>\n",
       "    <tr>\n",
       "      <th>2</th>\n",
       "      <td>CA-2011-115812</td>\n",
       "      <td>09-06-2011</td>\n",
       "      <td>14-06-2011</td>\n",
       "      <td>Brosina Hoffman</td>\n",
       "      <td>United States</td>\n",
       "      <td>Los Angeles</td>\n",
       "      <td>California</td>\n",
       "      <td>Art</td>\n",
       "      <td>Newell 322</td>\n",
       "    </tr>\n",
       "    <tr>\n",
       "      <th>3</th>\n",
       "      <td>CA-2011-115812</td>\n",
       "      <td>09-06-2011</td>\n",
       "      <td>14-06-2011</td>\n",
       "      <td>Brosina Hoffman</td>\n",
       "      <td>United States</td>\n",
       "      <td>Los Angeles</td>\n",
       "      <td>California</td>\n",
       "      <td>Phones</td>\n",
       "      <td>Mitel 5320 IP Phone VoIP phone</td>\n",
       "    </tr>\n",
       "    <tr>\n",
       "      <th>4</th>\n",
       "      <td>CA-2011-115812</td>\n",
       "      <td>09-06-2011</td>\n",
       "      <td>14-06-2011</td>\n",
       "      <td>Brosina Hoffman</td>\n",
       "      <td>United States</td>\n",
       "      <td>Los Angeles</td>\n",
       "      <td>California</td>\n",
       "      <td>Binders</td>\n",
       "      <td>DXL Angle-View Binders with Locking Rings by S...</td>\n",
       "    </tr>\n",
       "    <tr>\n",
       "      <th>...</th>\n",
       "      <td>...</td>\n",
       "      <td>...</td>\n",
       "      <td>...</td>\n",
       "      <td>...</td>\n",
       "      <td>...</td>\n",
       "      <td>...</td>\n",
       "      <td>...</td>\n",
       "      <td>...</td>\n",
       "      <td>...</td>\n",
       "    </tr>\n",
       "    <tr>\n",
       "      <th>3198</th>\n",
       "      <td>CA-2013-125794</td>\n",
       "      <td>30-09-2013</td>\n",
       "      <td>04-10-2013</td>\n",
       "      <td>Maris LaWare</td>\n",
       "      <td>United States</td>\n",
       "      <td>Los Angeles</td>\n",
       "      <td>California</td>\n",
       "      <td>Accessories</td>\n",
       "      <td>Memorex Mini Travel Drive 64 GB USB 2.0 Flash ...</td>\n",
       "    </tr>\n",
       "    <tr>\n",
       "      <th>3199</th>\n",
       "      <td>CA-2014-121258</td>\n",
       "      <td>27-02-2014</td>\n",
       "      <td>04-03-2014</td>\n",
       "      <td>Dave Brooks</td>\n",
       "      <td>United States</td>\n",
       "      <td>Costa Mesa</td>\n",
       "      <td>California</td>\n",
       "      <td>Furnishings</td>\n",
       "      <td>Tenex B1-RE Series Chair Mats for Low Pile Car...</td>\n",
       "    </tr>\n",
       "    <tr>\n",
       "      <th>3200</th>\n",
       "      <td>CA-2014-121258</td>\n",
       "      <td>27-02-2014</td>\n",
       "      <td>04-03-2014</td>\n",
       "      <td>Dave Brooks</td>\n",
       "      <td>United States</td>\n",
       "      <td>Costa Mesa</td>\n",
       "      <td>California</td>\n",
       "      <td>Phones</td>\n",
       "      <td>Aastra 57i VoIP phone</td>\n",
       "    </tr>\n",
       "    <tr>\n",
       "      <th>3201</th>\n",
       "      <td>CA-2014-121258</td>\n",
       "      <td>27-02-2014</td>\n",
       "      <td>04-03-2014</td>\n",
       "      <td>Dave Brooks</td>\n",
       "      <td>United States</td>\n",
       "      <td>Costa Mesa</td>\n",
       "      <td>California</td>\n",
       "      <td>Paper</td>\n",
       "      <td>It's Hot Message Books with Stickers, 2 3/4\" x 5\"</td>\n",
       "    </tr>\n",
       "    <tr>\n",
       "      <th>3202</th>\n",
       "      <td>CA-2014-119914</td>\n",
       "      <td>05-05-2014</td>\n",
       "      <td>10-05-2014</td>\n",
       "      <td>Chris Cortes</td>\n",
       "      <td>United States</td>\n",
       "      <td>Westminster</td>\n",
       "      <td>California</td>\n",
       "      <td>Appliances</td>\n",
       "      <td>Acco 7-Outlet Masterpiece Power Center, Wihtou...</td>\n",
       "    </tr>\n",
       "  </tbody>\n",
       "</table>\n",
       "<p>3203 rows × 9 columns</p>\n",
       "</div>"
      ],
      "text/plain": [
       "            Order ID  Order Date   Ship Date    Customer Name        Country  \\\n",
       "0     CA-2013-138688  13-06-2013  17-06-2013  Darrin Van Huff  United States   \n",
       "1     CA-2011-115812  09-06-2011  14-06-2011  Brosina Hoffman  United States   \n",
       "2     CA-2011-115812  09-06-2011  14-06-2011  Brosina Hoffman  United States   \n",
       "3     CA-2011-115812  09-06-2011  14-06-2011  Brosina Hoffman  United States   \n",
       "4     CA-2011-115812  09-06-2011  14-06-2011  Brosina Hoffman  United States   \n",
       "...              ...         ...         ...              ...            ...   \n",
       "3198  CA-2013-125794  30-09-2013  04-10-2013     Maris LaWare  United States   \n",
       "3199  CA-2014-121258  27-02-2014  04-03-2014      Dave Brooks  United States   \n",
       "3200  CA-2014-121258  27-02-2014  04-03-2014      Dave Brooks  United States   \n",
       "3201  CA-2014-121258  27-02-2014  04-03-2014      Dave Brooks  United States   \n",
       "3202  CA-2014-119914  05-05-2014  10-05-2014     Chris Cortes  United States   \n",
       "\n",
       "             City       State     Category  \\\n",
       "0     Los Angeles  California       Labels   \n",
       "1     Los Angeles  California  Furnishings   \n",
       "2     Los Angeles  California          Art   \n",
       "3     Los Angeles  California       Phones   \n",
       "4     Los Angeles  California      Binders   \n",
       "...           ...         ...          ...   \n",
       "3198  Los Angeles  California  Accessories   \n",
       "3199   Costa Mesa  California  Furnishings   \n",
       "3200   Costa Mesa  California       Phones   \n",
       "3201   Costa Mesa  California        Paper   \n",
       "3202  Westminster  California   Appliances   \n",
       "\n",
       "                                           Product Name  \n",
       "0     Self-Adhesive Address Labels for Typewriters b...  \n",
       "1     Eldon Expressions Wood and Plastic Desk Access...  \n",
       "2                                            Newell 322  \n",
       "3                        Mitel 5320 IP Phone VoIP phone  \n",
       "4     DXL Angle-View Binders with Locking Rings by S...  \n",
       "...                                                 ...  \n",
       "3198  Memorex Mini Travel Drive 64 GB USB 2.0 Flash ...  \n",
       "3199  Tenex B1-RE Series Chair Mats for Low Pile Car...  \n",
       "3200                              Aastra 57i VoIP phone  \n",
       "3201  It's Hot Message Books with Stickers, 2 3/4\" x 5\"  \n",
       "3202  Acco 7-Outlet Masterpiece Power Center, Wihtou...  \n",
       "\n",
       "[3203 rows x 9 columns]"
      ]
     },
     "execution_count": 14,
     "metadata": {},
     "output_type": "execute_result"
    }
   ],
   "source": [
    "df_cet"
   ]
  },
  {
   "cell_type": "code",
   "execution_count": 15,
   "id": "760b192a",
   "metadata": {},
   "outputs": [
    {
     "data": {
      "text/plain": [
       "array(['Los Angeles', 'Seattle', 'West Jordan', 'San Francisco', 'Orem',\n",
       "       'Gilbert', 'Portland', 'Aurora', 'Phoenix', 'Roseville',\n",
       "       'Pasadena', 'Scottsdale', 'San Jose', 'Carlsbad', 'Redlands',\n",
       "       'Denver', 'Whittier', 'Santa Clara', 'San Diego', 'Brentwood',\n",
       "       'Inglewood', 'Colorado Springs', 'Arvada', 'Long Beach',\n",
       "       'Hesperia', 'Layton', 'Tucson', 'Des Moines', 'Las Vegas',\n",
       "       'Huntington Beach', 'Louisville', 'Concord', 'Costa Mesa',\n",
       "       'Parker', 'Great Falls', 'Mesa', 'Anaheim', 'Marysville', 'Salem',\n",
       "       'Vallejo', 'Mission Viejo', 'Sierra Vista', 'Vancouver',\n",
       "       'Lancaster', 'Lake Elsinore', 'Edmonds', 'Santa Ana', 'Salinas',\n",
       "       'Farmington', 'Riverside', 'Torrance', 'Oceanside', 'Murrieta',\n",
       "       'Olympia', 'Oakland', 'Encinitas', 'Antioch', 'Reno', 'Escondido',\n",
       "       'Fresno', 'Pueblo', 'Fairfield', 'Pico Rivera', 'Provo',\n",
       "       'Pleasant Grove', 'Glendale', 'Westminster', 'Pomona',\n",
       "       'North Las Vegas', 'Tempe', 'Laguna Niguel', 'Bellevue', 'Kent',\n",
       "       'Tigard', 'Auburn', 'Redmond', 'Henderson', 'Spokane', 'Medford',\n",
       "       'Missoula', 'Springfield', 'Broomfield', 'San Bernardino',\n",
       "       'Bozeman', 'Peoria', 'Ontario', 'Rancho Cucamonga', 'Stockton',\n",
       "       'Sunnyvale', 'Manteca', 'Salt Lake City', 'Littleton',\n",
       "       'Fort Collins', 'Sacramento', 'Thousand Oaks', 'Albuquerque',\n",
       "       'Sparks', 'Coachella', 'La Quinta', 'Bellingham', 'Englewood',\n",
       "       'Las Cruces', 'Vacaville', 'Murray', 'Bakersfield',\n",
       "       'Redondo Beach', 'Billings', 'Gresham', 'Meridian', 'Apple Valley',\n",
       "       'Woodland', 'San Mateo', 'Visalia', 'Temecula', 'Yucaipa',\n",
       "       'Santa Fe', 'Chula Vista', 'Thornton', 'Lakewood', 'Covington',\n",
       "       'Boise', 'Citrus Heights', 'Bullhead City', 'San Gabriel',\n",
       "       'Lewiston', 'Danville', 'Logan', 'Avondale', 'Yuma', 'Pasco',\n",
       "       'Lehi', 'Moreno Valley', 'Loveland', 'Chandler', 'Helena',\n",
       "       'Clovis', 'Santa Barbara', 'Draper', 'La Mesa', 'Pocatello',\n",
       "       'Lake Forest', 'Redding', 'Chico', 'Cheyenne', 'Caldwell',\n",
       "       'Redwood City', 'Santa Maria', 'Longview', 'Eugene', 'Oxnard',\n",
       "       'Renton', 'Commerce City', 'Rio Rancho', 'Everett', 'Montebello',\n",
       "       'El Cajon', 'Camarillo', 'Hillsboro', 'Burbank', 'Modesto',\n",
       "       'Longmont', 'Davis', 'Morgan Hill', 'Greeley', 'Twin Falls',\n",
       "       'San Clemente', 'Dublin', 'San Luis Obispo', 'Lodi'], dtype=object)"
      ]
     },
     "execution_count": 15,
     "metadata": {},
     "output_type": "execute_result"
    }
   ],
   "source": [
    "df_cet['City'].unique()"
   ]
  },
  {
   "cell_type": "code",
   "execution_count": 16,
   "id": "fe044540",
   "metadata": {},
   "outputs": [
    {
     "data": {
      "text/plain": [
       "<bound method Series.count of 0        14.62\n",
       "1        48.86\n",
       "2         7.28\n",
       "3       907.15\n",
       "4        18.50\n",
       "         ...  \n",
       "3198     36.24\n",
       "3199     91.96\n",
       "3200    258.58\n",
       "3201     29.60\n",
       "3202    243.16\n",
       "Name: Sales, Length: 3203, dtype: float64>"
      ]
     },
     "execution_count": 16,
     "metadata": {},
     "output_type": "execute_result"
    }
   ],
   "source": [
    "df_num['Sales'].count"
   ]
  },
  {
   "cell_type": "markdown",
   "id": "a043e551",
   "metadata": {},
   "source": [
    "# bar plot using matplotlib"
   ]
  },
  {
   "cell_type": "code",
   "execution_count": 17,
   "id": "4a518286",
   "metadata": {},
   "outputs": [
    {
     "data": {
      "image/png": "[encoded data removed]",
      "text/plain": [
       "<Figure size 720x360 with 1 Axes>"
      ]
     },
     "metadata": {
      "needs_background": "light"
     },
     "output_type": "display_data"
    }
   ],
   "source": [
    "name=df_cet['State'].head(11)\n",
    "sale=df_num['Sales'].head(11)\n",
    "\n",
    "fig=plt.figure(figsize=(10,5))\n",
    "plt.bar(name[0:10],sale[0:10])\n",
    "\n",
    "plt.show()"
   ]
  },
  {
   "cell_type": "markdown",
   "id": "539d9dfb",
   "metadata": {},
   "source": [
    "# category wise bar plot"
   ]
  },
  {
   "cell_type": "code",
   "execution_count": 18,
   "id": "012fe923",
   "metadata": {},
   "outputs": [
    {
     "data": {
      "image/png": "[encoded data removed]",
      "text/plain": [
       "<Figure size 720x360 with 1 Axes>"
      ]
     },
     "metadata": {
      "needs_background": "light"
     },
     "output_type": "display_data"
    }
   ],
   "source": [
    "name=df_cet['Category'].head(11)\n",
    "sale=df_num['Sales'].head(11)\n",
    "\n",
    "fig=plt.figure(figsize=(10,5))\n",
    "plt.bar(name[0:10],sale[0:10])\n",
    "\n",
    "plt.show()"
   ]
  },
  {
   "cell_type": "code",
   "execution_count": 19,
   "id": "8a486f66",
   "metadata": {},
   "outputs": [
    {
     "data": {
      "text/plain": [
       "3203"
      ]
     },
     "execution_count": 19,
     "metadata": {},
     "output_type": "execute_result"
    }
   ],
   "source": [
    "df_cet['Product Name'].count()"
   ]
  },
  {
   "cell_type": "code",
   "execution_count": 20,
   "id": "d87b8bb3",
   "metadata": {
    "scrolled": true
   },
   "outputs": [
    {
     "data": {
      "text/plain": [
       "array(['Self-Adhesive Address Labels for Typewriters by Universal',\n",
       "       'Eldon Expressions Wood and Plastic Desk Accessories, Cherry Wood',\n",
       "       'Newell 322', ..., 'Ibico Recycled Grain-Textured Covers',\n",
       "       'Bush Andora Conference Table, Maple/Graphite Gray Finish',\n",
       "       'Avaya 5410 Digital phone'], dtype=object)"
      ]
     },
     "execution_count": 20,
     "metadata": {},
     "output_type": "execute_result"
    }
   ],
   "source": [
    "df_cet['Product Name'].unique()"
   ]
  },
  {
   "cell_type": "code",
   "execution_count": 21,
   "id": "46094dd9",
   "metadata": {},
   "outputs": [
    {
     "data": {
      "image/png": "[encoded data removed]",
      "text/plain": [
       "<Figure size 720x360 with 1 Axes>"
      ]
     },
     "metadata": {
      "needs_background": "light"
     },
     "output_type": "display_data"
    }
   ],
   "source": [
    "name=df_cet['Product Name'].head(11)\n",
    "sale=df_num['Sales'].head(11)\n",
    "\n",
    "fig=plt.figure(figsize=(10,5))\n",
    "plt.bar(name[0:10],sale[0:10])\n",
    "\n",
    "plt.show()"
   ]
  },
  {
   "cell_type": "code",
   "execution_count": 22,
   "id": "68835933",
   "metadata": {},
   "outputs": [
    {
     "data": {
      "image/png": "[encoded data removed]",
      "text/plain": [
       "<Figure size 720x360 with 1 Axes>"
      ]
     },
     "metadata": {
      "needs_background": "light"
     },
     "output_type": "display_data"
    }
   ],
   "source": [
    "name=df_cet['Category'].head(11)\n",
    "sale=df_num['Profit'].head(11)\n",
    "\n",
    "fig=plt.figure(figsize=(10,5))\n",
    "plt.bar(name[0:10],sale[0:10])\n",
    "\n",
    "plt.show()"
   ]
  },
  {
   "cell_type": "code",
   "execution_count": 23,
   "id": "72128ae7",
   "metadata": {},
   "outputs": [
    {
     "data": {
      "image/png": "[encoded data removed]",
      "text/plain": [
       "<Figure size 720x360 with 1 Axes>"
      ]
     },
     "metadata": {
      "needs_background": "light"
     },
     "output_type": "display_data"
    }
   ],
   "source": [
    "name=df_cet['Customer Name'].head(11)\n",
    "sale=df_num['Profit'].head(11)\n",
    "\n",
    "fig=plt.figure(figsize=(10,5))\n",
    "plt.bar(name[0:10],sale[0:10])\n",
    "\n",
    "plt.show()"
   ]
  },
  {
   "cell_type": "code",
   "execution_count": 24,
   "id": "0a7437c9",
   "metadata": {},
   "outputs": [
    {
     "data": {
      "text/plain": [
       "686"
      ]
     },
     "execution_count": 24,
     "metadata": {},
     "output_type": "execute_result"
    }
   ],
   "source": [
    "df_cet['Customer Name'].nunique()"
   ]
  },
  {
   "cell_type": "code",
   "execution_count": 25,
   "id": "0573cc29",
   "metadata": {},
   "outputs": [
    {
     "data": {
      "text/plain": [
       "count     3203.000000\n",
       "mean       226.493266\n",
       "std        524.876911\n",
       "min          0.990000\n",
       "25%         19.440000\n",
       "50%         60.840000\n",
       "75%        215.810000\n",
       "max      13999.960000\n",
       "Name: Sales, dtype: float64"
      ]
     },
     "execution_count": 25,
     "metadata": {},
     "output_type": "execute_result"
    }
   ],
   "source": [
    "df_num['Sales'].describe()"
   ]
  },
  {
   "cell_type": "code",
   "execution_count": 26,
   "id": "54d28398",
   "metadata": {},
   "outputs": [
    {
     "data": {
      "text/plain": [
       "count    3203.000000\n",
       "mean       33.849138\n",
       "std       174.109155\n",
       "min     -3399.980000\n",
       "25%         3.850000\n",
       "50%        11.170000\n",
       "75%        33.000000\n",
       "max      6719.980000\n",
       "Name: Profit, dtype: float64"
      ]
     },
     "execution_count": 26,
     "metadata": {},
     "output_type": "execute_result"
    }
   ],
   "source": [
    "df_num['Profit'].describe()"
   ]
  },
  {
   "cell_type": "code",
   "execution_count": 27,
   "id": "e2f6d694",
   "metadata": {},
   "outputs": [
    {
     "data": {
      "text/plain": [
       "count    3203.000000\n",
       "mean        3.828910\n",
       "std         2.260947\n",
       "min         1.000000\n",
       "25%         2.000000\n",
       "50%         3.000000\n",
       "75%         5.000000\n",
       "max        14.000000\n",
       "Name: Quantity, dtype: float64"
      ]
     },
     "execution_count": 27,
     "metadata": {},
     "output_type": "execute_result"
    }
   ],
   "source": [
    "df_num['Quantity'].describe()"
   ]
  },
  {
   "cell_type": "code",
   "execution_count": 28,
   "id": "27969c8e",
   "metadata": {},
   "outputs": [
    {
     "data": {
      "image/png": "[encoded data removed]",
      "text/plain": [
       "<Figure size 576x360 with 1 Axes>"
      ]
     },
     "metadata": {
      "needs_background": "light"
     },
     "output_type": "display_data"
    }
   ],
   "source": [
    "fig=plt.figure(figsize=(8,5))\n",
    "plt.hist(df_num['Sales'])\n",
    "plt.xlabel(\"minimum and maximum\")\n",
    "plt.ylabel(\"No of items\")\n",
    "plt.title(\"total sales of walmart\")\n",
    "plt.show()"
   ]
  },
  {
   "cell_type": "code",
   "execution_count": 29,
   "id": "90d1d149",
   "metadata": {},
   "outputs": [
    {
     "data": {
      "image/png": "[encoded data removed]",
      "text/plain": [
       "<Figure size 432x288 with 1 Axes>"
      ]
     },
     "metadata": {
      "needs_background": "light"
     },
     "output_type": "display_data"
    }
   ],
   "source": [
    "plt.hist(df_cet['State'],bins=40)\n",
    "plt.show()"
   ]
  },
  {
   "cell_type": "code",
   "execution_count": 30,
   "id": "5ad61912",
   "metadata": {},
   "outputs": [
    {
     "data": {
      "image/png": "[encoded data removed]",
      "text/plain": [
       "<Figure size 432x288 with 1 Axes>"
      ]
     },
     "metadata": {},
     "output_type": "display_data"
    },
    {
     "data": {
      "text/plain": [
       "<Figure size 1800x1440 with 0 Axes>"
      ]
     },
     "metadata": {},
     "output_type": "display_data"
    }
   ],
   "source": [
    "plt.style.use('ggplot') \n",
    "mi=df_num['Sales']\n",
    "mu=df_num['Profit']\n",
    "plt.plot(mi,label='overall sales')\n",
    "plt.plot(mu,label='overall profit')\n",
    "plt.legend(loc='best')\n",
    "fig=plt.figure(figsize=(25,20),facecolor='green')\n",
    "plt.show()\n"
   ]
  },
  {
   "cell_type": "code",
   "execution_count": 31,
   "id": "489a6713",
   "metadata": {},
   "outputs": [],
   "source": [
    "M_s=df_cet.groupby('Category')\n"
   ]
  },
  {
   "cell_type": "code",
   "execution_count": 32,
   "id": "ee6bb47d",
   "metadata": {},
   "outputs": [
    {
     "data": {
      "text/plain": [
       "<pandas.core.groupby.generic.DataFrameGroupBy object at 0x00000228EC495370>"
      ]
     },
     "execution_count": 32,
     "metadata": {},
     "output_type": "execute_result"
    }
   ],
   "source": [
    "M_s"
   ]
  },
  {
   "cell_type": "code",
   "execution_count": 51,
   "id": "dd6bba04",
   "metadata": {},
   "outputs": [],
   "source": [
    "new_sold=M_s['Category'].count().to_frame()"
   ]
  },
  {
   "cell_type": "code",
   "execution_count": 52,
   "id": "d59ca84d",
   "metadata": {},
   "outputs": [
    {
     "data": {
      "text/html": [
       "<div>\n",
       "<style scoped>\n",
       "    .dataframe tbody tr th:only-of-type {\n",
       "        vertical-align: middle;\n",
       "    }\n",
       "\n",
       "    .dataframe tbody tr th {\n",
       "        vertical-align: top;\n",
       "    }\n",
       "\n",
       "    .dataframe thead th {\n",
       "        text-align: right;\n",
       "    }\n",
       "</style>\n",
       "<table border=\"1\" class=\"dataframe\">\n",
       "  <thead>\n",
       "    <tr style=\"text-align: right;\">\n",
       "      <th></th>\n",
       "      <th>Category</th>\n",
       "    </tr>\n",
       "    <tr>\n",
       "      <th>Category</th>\n",
       "      <th></th>\n",
       "    </tr>\n",
       "  </thead>\n",
       "  <tbody>\n",
       "    <tr>\n",
       "      <th>Accessories</th>\n",
       "      <td>258</td>\n",
       "    </tr>\n",
       "    <tr>\n",
       "      <th>Appliances</th>\n",
       "      <td>136</td>\n",
       "    </tr>\n",
       "    <tr>\n",
       "      <th>Art</th>\n",
       "      <td>250</td>\n",
       "    </tr>\n",
       "    <tr>\n",
       "      <th>Binders</th>\n",
       "      <td>471</td>\n",
       "    </tr>\n",
       "    <tr>\n",
       "      <th>Bookcases</th>\n",
       "      <td>80</td>\n",
       "    </tr>\n",
       "    <tr>\n",
       "      <th>Chairs</th>\n",
       "      <td>207</td>\n",
       "    </tr>\n",
       "    <tr>\n",
       "      <th>Copiers</th>\n",
       "      <td>25</td>\n",
       "    </tr>\n",
       "    <tr>\n",
       "      <th>Envelopes</th>\n",
       "      <td>67</td>\n",
       "    </tr>\n",
       "    <tr>\n",
       "      <th>Fasteners</th>\n",
       "      <td>72</td>\n",
       "    </tr>\n",
       "    <tr>\n",
       "      <th>Furnishings</th>\n",
       "      <td>304</td>\n",
       "    </tr>\n",
       "    <tr>\n",
       "      <th>Labels</th>\n",
       "      <td>116</td>\n",
       "    </tr>\n",
       "    <tr>\n",
       "      <th>Machines</th>\n",
       "      <td>39</td>\n",
       "    </tr>\n",
       "    <tr>\n",
       "      <th>Paper</th>\n",
       "      <td>450</td>\n",
       "    </tr>\n",
       "    <tr>\n",
       "      <th>Phones</th>\n",
       "      <td>277</td>\n",
       "    </tr>\n",
       "    <tr>\n",
       "      <th>Storage</th>\n",
       "      <td>266</td>\n",
       "    </tr>\n",
       "    <tr>\n",
       "      <th>Supplies</th>\n",
       "      <td>69</td>\n",
       "    </tr>\n",
       "    <tr>\n",
       "      <th>Tables</th>\n",
       "      <td>116</td>\n",
       "    </tr>\n",
       "  </tbody>\n",
       "</table>\n",
       "</div>"
      ],
      "text/plain": [
       "             Category\n",
       "Category             \n",
       "Accessories       258\n",
       "Appliances        136\n",
       "Art               250\n",
       "Binders           471\n",
       "Bookcases          80\n",
       "Chairs            207\n",
       "Copiers            25\n",
       "Envelopes          67\n",
       "Fasteners          72\n",
       "Furnishings       304\n",
       "Labels            116\n",
       "Machines           39\n",
       "Paper             450\n",
       "Phones            277\n",
       "Storage           266\n",
       "Supplies           69\n",
       "Tables            116"
      ]
     },
     "execution_count": 52,
     "metadata": {},
     "output_type": "execute_result"
    }
   ],
   "source": [
    "new_sold"
   ]
  },
  {
   "cell_type": "code",
   "execution_count": 35,
   "id": "128cbcaf",
   "metadata": {},
   "outputs": [
    {
     "data": {
      "image/png": "[encoded data removed]",
      "text/plain": [
       "<Figure size 432x288 with 1 Axes>"
      ]
     },
     "metadata": {},
     "output_type": "display_data"
    }
   ],
   "source": [
    "plt.hist(new_sold['Category'],bins=40)\n",
    "plt.show()"
   ]
  },
  {
   "cell_type": "code",
   "execution_count": 36,
   "id": "4af81064",
   "metadata": {},
   "outputs": [
    {
     "data": {
      "text/plain": [
       "<AxesSubplot:xlabel='Category'>"
      ]
     },
     "execution_count": 36,
     "metadata": {},
     "output_type": "execute_result"
    },
    {
     "data": {
      "image/png": "[encoded data removed]",
      "text/plain": [
       "<Figure size 432x288 with 1 Axes>"
      ]
     },
     "metadata": {},
     "output_type": "display_data"
    }
   ],
   "source": [
    "new_sold.plot.line()"
   ]
  },
  {
   "cell_type": "code",
   "execution_count": 53,
   "id": "65d27fe4",
   "metadata": {},
   "outputs": [
    {
     "data": {
      "image/png": "[encoded data removed]",
      "text/plain": [
       "<Figure size 432x288 with 1 Axes>"
      ]
     },
     "metadata": {},
     "output_type": "display_data"
    }
   ],
   "source": [
    "new_sold.plot.bar()\n",
    "plt.show()"
   ]
  },
  {
   "cell_type": "code",
   "execution_count": 38,
   "id": "e39ca961",
   "metadata": {},
   "outputs": [],
   "source": [
    "new_mg=df_cet.groupby('Product Name')"
   ]
  },
  {
   "cell_type": "code",
   "execution_count": 39,
   "id": "5e842258",
   "metadata": {},
   "outputs": [],
   "source": [
    "new_ms=new_mg['Product Name'].count().to_frame()"
   ]
  },
  {
   "cell_type": "code",
   "execution_count": 40,
   "id": "06e4f6b9",
   "metadata": {},
   "outputs": [
    {
     "data": {
      "text/html": [
       "<div>\n",
       "<style scoped>\n",
       "    .dataframe tbody tr th:only-of-type {\n",
       "        vertical-align: middle;\n",
       "    }\n",
       "\n",
       "    .dataframe tbody tr th {\n",
       "        vertical-align: top;\n",
       "    }\n",
       "\n",
       "    .dataframe thead th {\n",
       "        text-align: right;\n",
       "    }\n",
       "</style>\n",
       "<table border=\"1\" class=\"dataframe\">\n",
       "  <thead>\n",
       "    <tr style=\"text-align: right;\">\n",
       "      <th></th>\n",
       "      <th>Product Name</th>\n",
       "    </tr>\n",
       "    <tr>\n",
       "      <th>Product Name</th>\n",
       "      <th></th>\n",
       "    </tr>\n",
       "  </thead>\n",
       "  <tbody>\n",
       "    <tr>\n",
       "      <th>\"While you Were Out\" Message Book, One Form per Page</th>\n",
       "      <td>1</td>\n",
       "    </tr>\n",
       "    <tr>\n",
       "      <th>#10 Self-Seal White Envelopes</th>\n",
       "      <td>1</td>\n",
       "    </tr>\n",
       "    <tr>\n",
       "      <th>#10 White Business Envelopes,4 1/8 x 9 1/2</th>\n",
       "      <td>2</td>\n",
       "    </tr>\n",
       "    <tr>\n",
       "      <th>#10- 4 1/8\" x 9 1/2\" Recycled Envelopes</th>\n",
       "      <td>2</td>\n",
       "    </tr>\n",
       "    <tr>\n",
       "      <th>#10- 4 1/8\" x 9 1/2\" Security-Tint Envelopes</th>\n",
       "      <td>5</td>\n",
       "    </tr>\n",
       "    <tr>\n",
       "      <th>...</th>\n",
       "      <td>...</td>\n",
       "    </tr>\n",
       "    <tr>\n",
       "      <th>iKross Bluetooth Portable Keyboard + Cell Phone Stand Holder + Brush for Apple iPhone 5S 5C 5, 4S 4</th>\n",
       "      <td>2</td>\n",
       "    </tr>\n",
       "    <tr>\n",
       "      <th>iOttie HLCRIO102 Car Mount</th>\n",
       "      <td>2</td>\n",
       "    </tr>\n",
       "    <tr>\n",
       "      <th>iOttie XL Car Mount</th>\n",
       "      <td>1</td>\n",
       "    </tr>\n",
       "    <tr>\n",
       "      <th>invisibleSHIELD by ZAGG Smudge-Free Screen Protector</th>\n",
       "      <td>3</td>\n",
       "    </tr>\n",
       "    <tr>\n",
       "      <th>netTALK DUO VoIP Telephone Service</th>\n",
       "      <td>5</td>\n",
       "    </tr>\n",
       "  </tbody>\n",
       "</table>\n",
       "<p>1494 rows × 1 columns</p>\n",
       "</div>"
      ],
      "text/plain": [
       "                                                    Product Name\n",
       "Product Name                                                    \n",
       "\"While you Were Out\" Message Book, One Form per...             1\n",
       "#10 Self-Seal White Envelopes                                  1\n",
       "#10 White Business Envelopes,4 1/8 x 9 1/2                     2\n",
       "#10- 4 1/8\" x 9 1/2\" Recycled Envelopes                        2\n",
       "#10- 4 1/8\" x 9 1/2\" Security-Tint Envelopes                   5\n",
       "...                                                          ...\n",
       "iKross Bluetooth Portable Keyboard + Cell Phone...             2\n",
       "iOttie HLCRIO102 Car Mount                                     2\n",
       "iOttie XL Car Mount                                            1\n",
       "invisibleSHIELD by ZAGG Smudge-Free Screen Prot...             3\n",
       "netTALK DUO VoIP Telephone Service                             5\n",
       "\n",
       "[1494 rows x 1 columns]"
      ]
     },
     "execution_count": 40,
     "metadata": {},
     "output_type": "execute_result"
    }
   ],
   "source": [
    "new_ms"
   ]
  },
  {
   "cell_type": "code",
   "execution_count": 41,
   "id": "dbe69d06",
   "metadata": {},
   "outputs": [
    {
     "data": {
      "text/html": [
       "<div>\n",
       "<style scoped>\n",
       "    .dataframe tbody tr th:only-of-type {\n",
       "        vertical-align: middle;\n",
       "    }\n",
       "\n",
       "    .dataframe tbody tr th {\n",
       "        vertical-align: top;\n",
       "    }\n",
       "\n",
       "    .dataframe thead th {\n",
       "        text-align: right;\n",
       "    }\n",
       "</style>\n",
       "<table border=\"1\" class=\"dataframe\">\n",
       "  <thead>\n",
       "    <tr style=\"text-align: right;\">\n",
       "      <th></th>\n",
       "      <th>Product Name</th>\n",
       "    </tr>\n",
       "    <tr>\n",
       "      <th>Product Name</th>\n",
       "      <th></th>\n",
       "    </tr>\n",
       "  </thead>\n",
       "  <tbody>\n",
       "    <tr>\n",
       "      <th>\"While you Were Out\" Message Book, One Form per Page</th>\n",
       "      <td>1</td>\n",
       "    </tr>\n",
       "    <tr>\n",
       "      <th>#10 Self-Seal White Envelopes</th>\n",
       "      <td>1</td>\n",
       "    </tr>\n",
       "    <tr>\n",
       "      <th>#10 White Business Envelopes,4 1/8 x 9 1/2</th>\n",
       "      <td>2</td>\n",
       "    </tr>\n",
       "    <tr>\n",
       "      <th>#10- 4 1/8\" x 9 1/2\" Recycled Envelopes</th>\n",
       "      <td>2</td>\n",
       "    </tr>\n",
       "    <tr>\n",
       "      <th>#10- 4 1/8\" x 9 1/2\" Security-Tint Envelopes</th>\n",
       "      <td>5</td>\n",
       "    </tr>\n",
       "  </tbody>\n",
       "</table>\n",
       "</div>"
      ],
      "text/plain": [
       "                                                    Product Name\n",
       "Product Name                                                    \n",
       "\"While you Were Out\" Message Book, One Form per...             1\n",
       "#10 Self-Seal White Envelopes                                  1\n",
       "#10 White Business Envelopes,4 1/8 x 9 1/2                     2\n",
       "#10- 4 1/8\" x 9 1/2\" Recycled Envelopes                        2\n",
       "#10- 4 1/8\" x 9 1/2\" Security-Tint Envelopes                   5"
      ]
     },
     "execution_count": 41,
     "metadata": {},
     "output_type": "execute_result"
    }
   ],
   "source": [
    "new_ms.head()"
   ]
  },
  {
   "cell_type": "code",
   "execution_count": 42,
   "id": "42ffd2e5",
   "metadata": {},
   "outputs": [
    {
     "data": {
      "text/plain": [
       "array([<AxesSubplot:ylabel='Category'>], dtype=object)"
      ]
     },
     "execution_count": 42,
     "metadata": {},
     "output_type": "execute_result"
    },
    {
     "data": {
      "image/png": "[encoded data removed]",
      "text/plain": [
       "<Figure size 720x1080 with 1 Axes>"
      ]
     },
     "metadata": {},
     "output_type": "display_data"
    }
   ],
   "source": [
    "new_sold.iloc[1:11].plot(kind='pie',subplots=True,autopct='%0.1f%%',figsize=(10,15))"
   ]
  },
  {
   "cell_type": "code",
   "execution_count": 43,
   "id": "cdf36b4f",
   "metadata": {},
   "outputs": [
    {
     "data": {
      "text/plain": [
       "array([<AxesSubplot:ylabel='Product Name'>], dtype=object)"
      ]
     },
     "execution_count": 43,
     "metadata": {},
     "output_type": "execute_result"
    },
    {
     "data": {
      "image/png": "[encoded data removed]",
      "text/plain": [
       "<Figure size 720x1080 with 1 Axes>"
      ]
     },
     "metadata": {},
     "output_type": "display_data"
    }
   ],
   "source": [
    "new_ms.iloc[1:5].plot(kind='pie',subplots=True,autopct='%0.1f%%',figsize=(10,15))"
   ]
  },
  {
   "cell_type": "code",
   "execution_count": 44,
   "id": "fd41d2e3",
   "metadata": {},
   "outputs": [],
   "source": [
    "c_l=df_cet.groupby('Customer Name')"
   ]
  },
  {
   "cell_type": "code",
   "execution_count": 45,
   "id": "80395ec2",
   "metadata": {},
   "outputs": [],
   "source": [
    "c_p=c_l['Customer Name'].count().to_frame()"
   ]
  },
  {
   "cell_type": "code",
   "execution_count": 46,
   "id": "49303eb2",
   "metadata": {},
   "outputs": [
    {
     "data": {
      "text/html": [
       "<div>\n",
       "<style scoped>\n",
       "    .dataframe tbody tr th:only-of-type {\n",
       "        vertical-align: middle;\n",
       "    }\n",
       "\n",
       "    .dataframe tbody tr th {\n",
       "        vertical-align: top;\n",
       "    }\n",
       "\n",
       "    .dataframe thead th {\n",
       "        text-align: right;\n",
       "    }\n",
       "</style>\n",
       "<table border=\"1\" class=\"dataframe\">\n",
       "  <thead>\n",
       "    <tr style=\"text-align: right;\">\n",
       "      <th></th>\n",
       "      <th>Customer Name</th>\n",
       "    </tr>\n",
       "    <tr>\n",
       "      <th>Customer Name</th>\n",
       "      <th></th>\n",
       "    </tr>\n",
       "  </thead>\n",
       "  <tbody>\n",
       "    <tr>\n",
       "      <th>Aaron Bergman</th>\n",
       "      <td>3</td>\n",
       "    </tr>\n",
       "    <tr>\n",
       "      <th>Aaron Hawkins</th>\n",
       "      <td>5</td>\n",
       "    </tr>\n",
       "    <tr>\n",
       "      <th>Aaron Smayling</th>\n",
       "      <td>3</td>\n",
       "    </tr>\n",
       "    <tr>\n",
       "      <th>Adam Bellavance</th>\n",
       "      <td>5</td>\n",
       "    </tr>\n",
       "    <tr>\n",
       "      <th>Adam Hart</th>\n",
       "      <td>5</td>\n",
       "    </tr>\n",
       "    <tr>\n",
       "      <th>...</th>\n",
       "      <td>...</td>\n",
       "    </tr>\n",
       "    <tr>\n",
       "      <th>Xylona Preis</th>\n",
       "      <td>12</td>\n",
       "    </tr>\n",
       "    <tr>\n",
       "      <th>Yana Sorensen</th>\n",
       "      <td>7</td>\n",
       "    </tr>\n",
       "    <tr>\n",
       "      <th>Yoseph Carroll</th>\n",
       "      <td>2</td>\n",
       "    </tr>\n",
       "    <tr>\n",
       "      <th>Zuschuss Carroll</th>\n",
       "      <td>16</td>\n",
       "    </tr>\n",
       "    <tr>\n",
       "      <th>Zuschuss Donatelli</th>\n",
       "      <td>4</td>\n",
       "    </tr>\n",
       "  </tbody>\n",
       "</table>\n",
       "<p>686 rows × 1 columns</p>\n",
       "</div>"
      ],
      "text/plain": [
       "                    Customer Name\n",
       "Customer Name                    \n",
       "Aaron Bergman                   3\n",
       "Aaron Hawkins                   5\n",
       "Aaron Smayling                  3\n",
       "Adam Bellavance                 5\n",
       "Adam Hart                       5\n",
       "...                           ...\n",
       "Xylona Preis                   12\n",
       "Yana Sorensen                   7\n",
       "Yoseph Carroll                  2\n",
       "Zuschuss Carroll               16\n",
       "Zuschuss Donatelli              4\n",
       "\n",
       "[686 rows x 1 columns]"
      ]
     },
     "execution_count": 46,
     "metadata": {},
     "output_type": "execute_result"
    }
   ],
   "source": [
    "c_p"
   ]
  },
  {
   "cell_type": "markdown",
   "id": "25f215b7",
   "metadata": {},
   "source": [
    "# pie chart of customer name purchase"
   ]
  },
  {
   "cell_type": "code",
   "execution_count": 47,
   "id": "1810d1d7",
   "metadata": {},
   "outputs": [
    {
     "data": {
      "text/plain": [
       "array([<AxesSubplot:ylabel='Customer Name'>], dtype=object)"
      ]
     },
     "execution_count": 47,
     "metadata": {},
     "output_type": "execute_result"
    },
    {
     "data": {
      "image/png": "[encoded data removed]",
      "text/plain": [
       "<Figure size 720x1080 with 1 Axes>"
      ]
     },
     "metadata": {},
     "output_type": "display_data"
    }
   ],
   "source": [
    "c_p.iloc[1:16].plot(kind='pie',subplots=True,autopct='%0.1f%%',figsize=(10,15))"
   ]
  },
  {
   "cell_type": "code",
   "execution_count": null,
   "id": "022702f9",
   "metadata": {},
   "outputs": [],
   "source": []
  },
  {
   "cell_type": "code",
   "execution_count": null,
   "id": "fda596a9",
   "metadata": {},
   "outputs": [],
   "source": []
  },
  {
   "cell_type": "code",
   "execution_count": null,
   "id": "caeaa96f",
   "metadata": {},
   "outputs": [],
   "source": []
  },
  {
   "cell_type": "code",
   "execution_count": null,
   "id": "0cb5a1fa",
   "metadata": {},
   "outputs": [],
   "source": []
  },
  {
   "cell_type": "code",
   "execution_count": null,
   "id": "e089921b",
   "metadata": {},
   "outputs": [],
   "source": [
    "\n",
    "                    "
   ]
  },
  {
   "cell_type": "code",
   "execution_count": null,
   "id": "f7df70a7",
   "metadata": {},
   "outputs": [],
   "source": []
  }
 ],
 "metadata": {
  "kernelspec": {
   "display_name": "Python 3",
   "language": "python",
   "name": "python3"
  },
  "language_info": {
   "codemirror_mode": {
    "name": "ipython",
    "version": 3
   },
   "file_extension": ".py",
   "mimetype": "text/x-python",
   "name": "python",
   "nbconvert_exporter": "python",
   "pygments_lexer": "ipython3",
   "version": "3.8.8"
  }
 },
 "nbformat": 4,
 "nbformat_minor": 5
}
